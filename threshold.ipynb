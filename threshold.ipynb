{
 "cells": [
  {
   "cell_type": "code",
   "execution_count": 28,
   "metadata": {},
   "outputs": [
    {
     "name": "stderr",
     "output_type": "stream",
     "text": [
      "No sentence-transformers model found with name dccuchile/bert-base-spanish-wwm-cased. Creating a new one with mean pooling.\n",
      "Some weights of BertModel were not initialized from the model checkpoint at dccuchile/bert-base-spanish-wwm-cased and are newly initialized: ['bert.pooler.dense.bias', 'bert.pooler.dense.weight']\n",
      "You should probably TRAIN this model on a down-stream task to be able to use it for predictions and inference.\n"
     ]
    }
   ],
   "source": [
    "import numpy as np\n",
    "from sentence_transformers import SentenceTransformer\n",
    "import faiss\n",
    "\n",
    "# Datos de ejemplo\n",
    "data = [\"Juan Pérez 12345678\", \"Juana Peréz 12345679\", \"John Doe 87654321\"]\n",
    "\n",
    "# # Cargar modelo y generar embeddings\n",
    "model = SentenceTransformer(\"dccuchile/bert-base-spanish-wwm-cased\")\n",
    "embeddings = np.array(model.encode(data), dtype=\"float32\")\n",
    "\n"
   ]
  },
  {
   "cell_type": "code",
   "execution_count": 29,
   "metadata": {},
   "outputs": [],
   "source": [
    "# Crear índice FAISS\n",
    "dimension = embeddings.shape[1]\n",
    "index = faiss.IndexFlatL2(dimension)\n",
    "index.add(embeddings)"
   ]
  },
  {
   "cell_type": "code",
   "execution_count": 30,
   "metadata": {},
   "outputs": [],
   "source": [
    "# Generar embedding para la consulta\n",
    "query = \"Juan Perez 12345678\"\n",
    "query_embedding = np.array(model.encode([query]), dtype=\"float32\")\n",
    "\n",
    "# Realizar búsqueda\n",
    "distances, indices = index.search(query_embedding, k=len(data))\n",
    "\n"
   ]
  },
  {
   "cell_type": "code",
   "execution_count": 35,
   "metadata": {},
   "outputs": [
    {
     "data": {
      "text/plain": [
       "array([[10.613998, 23.246489, 37.040253]], dtype=float32)"
      ]
     },
     "execution_count": 35,
     "metadata": {},
     "output_type": "execute_result"
    }
   ],
   "source": [
    "distances"
   ]
  },
  {
   "cell_type": "code",
   "execution_count": 34,
   "metadata": {},
   "outputs": [
    {
     "name": "stdout",
     "output_type": "stream",
     "text": [
      "Resultado: Juan Pérez 12345678, Similaridad: 71.34%\n"
     ]
    }
   ],
   "source": [
    "# Umbral de similitud (90%)\n",
    "threshold = 0.7\n",
    "\n",
    "# Calcular similitud y filtrar por umbral\n",
    "results = []\n",
    "for distance, idx in zip(distances[0], indices[0]):\n",
    "  similarity = 1 - distance / max(distances[0])  \n",
    "  # Similitud como porcentaje\n",
    "  if similarity >= threshold:\n",
    "    results.append({\"texto\": data[idx], \"similaridad\": similarity})\n",
    "\n",
    "\n",
    "# Mostrar resultados\n",
    "for result in results:\n",
    "    print(f\"Resultado: {result['texto']}, Similaridad: {result['similaridad']:.2%}\")\n"
   ]
  },
  {
   "cell_type": "code",
   "execution_count": null,
   "metadata": {},
   "outputs": [],
   "source": []
  }
 ],
 "metadata": {
  "kernelspec": {
   "display_name": ".venv",
   "language": "python",
   "name": "python3"
  },
  "language_info": {
   "codemirror_mode": {
    "name": "ipython",
    "version": 3
   },
   "file_extension": ".py",
   "mimetype": "text/x-python",
   "name": "python",
   "nbconvert_exporter": "python",
   "pygments_lexer": "ipython3",
   "version": "3.12.5"
  }
 },
 "nbformat": 4,
 "nbformat_minor": 2
}
