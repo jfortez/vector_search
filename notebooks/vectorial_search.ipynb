{
 "cells": [
  {
   "cell_type": "code",
   "execution_count": 1,
   "metadata": {},
   "outputs": [],
   "source": [
    "from database import get_data"
   ]
  },
  {
   "cell_type": "code",
   "execution_count": 2,
   "metadata": {},
   "outputs": [
    {
     "name": "stdout",
     "output_type": "stream",
     "text": [
      "SELECT id, identificacion, nombre FROM Personas;\n"
     ]
    }
   ],
   "source": [
    "data = get_data()"
   ]
  },
  {
   "cell_type": "code",
   "execution_count": 5,
   "metadata": {},
   "outputs": [
    {
     "data": {
      "text/html": [
       "<div>\n",
       "<style scoped>\n",
       "    .dataframe tbody tr th:only-of-type {\n",
       "        vertical-align: middle;\n",
       "    }\n",
       "\n",
       "    .dataframe tbody tr th {\n",
       "        vertical-align: top;\n",
       "    }\n",
       "\n",
       "    .dataframe thead th {\n",
       "        text-align: right;\n",
       "    }\n",
       "</style>\n",
       "<table border=\"1\" class=\"dataframe\">\n",
       "  <thead>\n",
       "    <tr style=\"text-align: right;\">\n",
       "      <th></th>\n",
       "      <th>id</th>\n",
       "      <th>identificacion</th>\n",
       "      <th>nombre</th>\n",
       "    </tr>\n",
       "  </thead>\n",
       "  <tbody>\n",
       "    <tr>\n",
       "      <th>0</th>\n",
       "      <td>1</td>\n",
       "      <td>12345678</td>\n",
       "      <td>Juan Pérez</td>\n",
       "    </tr>\n",
       "    <tr>\n",
       "      <th>1</th>\n",
       "      <td>2</td>\n",
       "      <td>87654321</td>\n",
       "      <td>Maria Gómez</td>\n",
       "    </tr>\n",
       "    <tr>\n",
       "      <th>2</th>\n",
       "      <td>3</td>\n",
       "      <td>23456789</td>\n",
       "      <td>J. Pérez</td>\n",
       "    </tr>\n",
       "    <tr>\n",
       "      <th>3</th>\n",
       "      <td>4</td>\n",
       "      <td>34567890</td>\n",
       "      <td>José Gómez</td>\n",
       "    </tr>\n",
       "    <tr>\n",
       "      <th>4</th>\n",
       "      <td>5</td>\n",
       "      <td>231047465</td>\n",
       "      <td>Ana</td>\n",
       "    </tr>\n",
       "    <tr>\n",
       "      <th>...</th>\n",
       "      <td>...</td>\n",
       "      <td>...</td>\n",
       "      <td>...</td>\n",
       "    </tr>\n",
       "    <tr>\n",
       "      <th>864</th>\n",
       "      <td>1000</td>\n",
       "      <td>948472764</td>\n",
       "      <td>José</td>\n",
       "    </tr>\n",
       "    <tr>\n",
       "      <th>865</th>\n",
       "      <td>1001</td>\n",
       "      <td>135555999</td>\n",
       "      <td>S.</td>\n",
       "    </tr>\n",
       "    <tr>\n",
       "      <th>866</th>\n",
       "      <td>1002</td>\n",
       "      <td>703524569</td>\n",
       "      <td>Torres</td>\n",
       "    </tr>\n",
       "    <tr>\n",
       "      <th>867</th>\n",
       "      <td>1003</td>\n",
       "      <td>895510194</td>\n",
       "      <td>D. Rossi</td>\n",
       "    </tr>\n",
       "    <tr>\n",
       "      <th>868</th>\n",
       "      <td>1004</td>\n",
       "      <td>276045608</td>\n",
       "      <td>Carlos</td>\n",
       "    </tr>\n",
       "  </tbody>\n",
       "</table>\n",
       "<p>869 rows × 3 columns</p>\n",
       "</div>"
      ],
      "text/plain": [
       "       id identificacion       nombre\n",
       "0       1       12345678   Juan Pérez\n",
       "1       2       87654321  Maria Gómez\n",
       "2       3       23456789     J. Pérez\n",
       "3       4       34567890   José Gómez\n",
       "4       5      231047465         Ana \n",
       "..    ...            ...          ...\n",
       "864  1000      948472764        José \n",
       "865  1001      135555999          S. \n",
       "866  1002      703524569       Torres\n",
       "867  1003      895510194     D. Rossi\n",
       "868  1004      276045608      Carlos \n",
       "\n",
       "[869 rows x 3 columns]"
      ]
     },
     "execution_count": 5,
     "metadata": {},
     "output_type": "execute_result"
    }
   ],
   "source": [
    "data"
   ]
  },
  {
   "cell_type": "code",
   "execution_count": 218,
   "metadata": {},
   "outputs": [],
   "source": [
    "# texts = [f\"{nombre}{identificacion}\" for nombre,  identificacion in zip(data['nombre'], data['identificacion'])]\n",
    "# texts = data.apply(lambda row: f\"{row['nombre']}{row['identificacion']}\",axis=1).tolist()\n",
    "\n",
    "\n",
    "# texts = data['nombre'].tolist()\n",
    "\n",
    "import re\n",
    "\n",
    "import unicodedata\n",
    "\n",
    "# Regex para mantener solo letras y números, excluyendo apóstrofes\n",
    "_alnum_regex = re.compile(r\"(?ui)\\W\")\n",
    "\n",
    "def preprocess(s):\n",
    "    # 1. Normalizar caracteres acentuados a su versión base (ej. á → a, ñ → n)\n",
    "    s = unicodedata.normalize(\"NFKD\", s).encode(\"ascii\", \"ignore\").decode(\"utf-8\")\n",
    "    \n",
    "    # 2. Eliminar caracteres no alfanuméricos (incluye los apóstrofes)\n",
    "    string_out = _alnum_regex.sub(\" \", s)\n",
    "    \n",
    "    # 3. Retornar en minúsculas y sin espacios extras\n",
    "    return string_out.strip().lower()\n",
    "\n",
    "# Pruebas\n",
    "\n",
    "texts =  data['nombre'].apply(lambda x: preprocess(x)).tolist()\n",
    "ids = data['id'].tolist()\n",
    "\n"
   ]
  },
  {
   "cell_type": "code",
   "execution_count": 219,
   "metadata": {},
   "outputs": [
    {
     "data": {
      "text/plain": [
       "869"
      ]
     },
     "execution_count": 219,
     "metadata": {},
     "output_type": "execute_result"
    }
   ],
   "source": [
    "len(texts)"
   ]
  },
  {
   "cell_type": "code",
   "execution_count": 96,
   "metadata": {},
   "outputs": [
    {
     "name": "stderr",
     "output_type": "stream",
     "text": [
      "No sentence-transformers model found with name dccuchile/bert-base-spanish-wwm-cased. Creating a new one with mean pooling.\n",
      "Some weights of BertModel were not initialized from the model checkpoint at dccuchile/bert-base-spanish-wwm-cased and are newly initialized: ['bert.pooler.dense.bias', 'bert.pooler.dense.weight']\n",
      "You should probably TRAIN this model on a down-stream task to be able to use it for predictions and inference.\n"
     ]
    }
   ],
   "source": [
    "# generate embeddings\n",
    "\n",
    "from sentence_transformers import SentenceTransformer\n",
    "\n",
    "# Modelo de embeddings local\n",
    "model = SentenceTransformer('dccuchile/bert-base-spanish-wwm-cased')\n"
   ]
  },
  {
   "cell_type": "code",
   "execution_count": 200,
   "metadata": {},
   "outputs": [],
   "source": [
    "embeddings = model.encode(texts)"
   ]
  },
  {
   "cell_type": "code",
   "execution_count": 201,
   "metadata": {},
   "outputs": [
    {
     "data": {
      "text/plain": [
       "869"
      ]
     },
     "execution_count": 201,
     "metadata": {},
     "output_type": "execute_result"
    }
   ],
   "source": [
    "len(embeddings)"
   ]
  },
  {
   "cell_type": "code",
   "execution_count": 202,
   "metadata": {},
   "outputs": [],
   "source": [
    "# Index FAISS\n",
    "\n",
    "import faiss\n",
    "import numpy as np\n",
    "\n",
    "# Crear índice y añadir datos\n",
    "dimension = 768\n",
    "index = faiss.IndexFlatL2(dimension)\n",
    "\n",
    "index.add(np.array(embeddings, dtype='float32'))"
   ]
  },
  {
   "cell_type": "code",
   "execution_count": 211,
   "metadata": {},
   "outputs": [
    {
     "name": "stdout",
     "output_type": "stream",
     "text": [
      "    ID      Registro Similaridad\n",
      "0    1    Juan Pérez     100.00%\n",
      "1  557   María Pérez      21.46%\n",
      "2  652   María Pérez      21.46%\n",
      "3  660    Juan Rossi      18.03%\n",
      "4  916   Pedro Pérez      16.11%\n",
      "5   74  Olivia Pérez      13.75%\n"
     ]
    }
   ],
   "source": [
    "import pandas as pd\n",
    "def search(query, threshold=0.1):\n",
    "    # Generar embedding para la consulta del usuario\n",
    "    query_embedding = model.encode([preprocess(query)])\n",
    "\n",
    "    # Buscar en FAISS\n",
    "    distances, indices = index.search(np.array(query_embedding, dtype='float32'), k=10)\n",
    "    # Mostrar resultados\n",
    "    results = []  # Lista para almacenar los resultados\n",
    "    for i, idx in enumerate(indices[0]):\n",
    "        # Obtener ID único\n",
    "        result_id = ids[idx]  \n",
    "        # Texto original\n",
    "        result_text = data.iloc[idx]['nombre']\n",
    "        similarity = 1 - distances[0][i] / max(distances[0])  \n",
    "        \n",
    "        # Filtrar resultados por umbral de similitud\n",
    "        if similarity >= threshold:\n",
    "            results.append({\"ID\": result_id, \"Registro\": result_text, \"Similaridad\": f\"{similarity:.2%}\"})\n",
    "\n",
    "    results_df = pd.DataFrame(results)\n",
    "    print(results_df)\n",
    "\n",
    "search(\"Juan Perez\")"
   ]
  },
  {
   "cell_type": "markdown",
   "metadata": {},
   "source": [
    "# Manejar Nuevos Registros / Eliminaciones (mutaciones) sin indexar todo\n",
    "\n",
    "\n",
    "## Crear nuevo Registro"
   ]
  },
  {
   "cell_type": "code",
   "execution_count": 103,
   "metadata": {},
   "outputs": [],
   "source": [
    "\n",
    "\n",
    "nuevo_registro = \"Guillermo Mendoza\"\n",
    "# ID del nuevo registro\n",
    "nuevo_id = 1005\n",
    "# Generar embedding para el nuevo registro\n",
    "nuevo_embedding = model.encode([nuevo_registro])\n",
    "\n",
    "# Añadir al índice FAISS\n",
    "index.add(np.array(nuevo_embedding, dtype='float32'))\n",
    "\n",
    "# Actualizar listas de IDs y textos\n",
    "ids.append(nuevo_id)\n",
    "texts.append(nuevo_registro)"
   ]
  },
  {
   "cell_type": "code",
   "execution_count": 134,
   "metadata": {},
   "outputs": [
    {
     "data": {
      "text/plain": [
       "'Guillermo Mendoza'"
      ]
     },
     "execution_count": 134,
     "metadata": {},
     "output_type": "execute_result"
    }
   ],
   "source": [
    "texts[len(texts)-1]"
   ]
  },
  {
   "cell_type": "markdown",
   "metadata": {},
   "source": [
    "## Eliminar Registros Existentes"
   ]
  },
  {
   "cell_type": "code",
   "execution_count": 170,
   "metadata": {},
   "outputs": [
    {
     "data": {
      "text/plain": [
       "'jose gomez'"
      ]
     },
     "execution_count": 170,
     "metadata": {},
     "output_type": "execute_result"
    }
   ],
   "source": [
    "\n",
    "# Supongamos que quieres eliminar el registro con ID 3\n",
    "id_to_remove = 4\n",
    "\n",
    "index_to_remove = ids.index(id_to_remove) \n",
    "\n",
    "texts[index_to_remove]"
   ]
  },
  {
   "cell_type": "code",
   "execution_count": 175,
   "metadata": {},
   "outputs": [],
   "source": [
    "\n",
    "\n",
    "# Filtrar los registros que quieres mantener\n",
    "remaining_indices = [i for i, record_id in enumerate(ids) if record_id != id_to_remove]\n",
    "\n",
    "# Reconstruir el índice FAISS con los registros restantes\n",
    "new_embeddings = [embeddings[i] for i in remaining_indices]\n",
    "filtered_embeddings = np.array(new_embeddings, dtype='float32')\n",
    "\n",
    "\n",
    "index = faiss.IndexFlatL2(dimension)\n",
    "index.add(filtered_embeddings)\n",
    "\n",
    "# Actualizar listas de IDs y textos\n",
    "ids = [ids[i] for i in remaining_indices]\n",
    "texts = [texts[i] for i in remaining_indices]\n"
   ]
  },
  {
   "cell_type": "code",
   "execution_count": 183,
   "metadata": {},
   "outputs": [
    {
     "name": "stdout",
     "output_type": "stream",
     "text": [
      "    ID         Registro Similaridad\n",
      "0   58    Laura Sánchez     100.00%\n",
      "1    5         J. Pérez     100.00%\n",
      "2    2      Maria Gómez      24.79%\n",
      "3  603          Ramírez      24.79%\n",
      "4  245          Bianchi      17.63%\n",
      "5  530         P. Lopez      17.63%\n",
      "6  846       Juan Weber      17.63%\n",
      "7  883              S.       13.60%\n",
      "8  684  Lucas Fernández       7.47%\n",
      "9  317              D.        0.00%\n"
     ]
    }
   ],
   "source": [
    "search(\"Jose Gomez\")"
   ]
  },
  {
   "cell_type": "markdown",
   "metadata": {},
   "source": [
    "## Actualizar Registro Existente\n",
    "\n",
    "por ejemplo corregir un error de nombre o identificacion.\n",
    "Pasos: \n",
    "1. Eliminar el Vector Correspondiente del indice\n",
    "2. Generar un nuevo embeding y agregarlo en el indice"
   ]
  },
  {
   "cell_type": "code",
   "execution_count": 184,
   "metadata": {},
   "outputs": [
    {
     "data": {
      "text/plain": [
       "'juan perez'"
      ]
     },
     "execution_count": 184,
     "metadata": {},
     "output_type": "execute_result"
    }
   ],
   "source": [
    "target_id = 1\n",
    "\n",
    "target_index = ids.index(target_id)\n",
    "\n",
    "texts[target_index]"
   ]
  },
  {
   "cell_type": "code",
   "execution_count": 185,
   "metadata": {},
   "outputs": [],
   "source": [
    "# Registro actualizado\n",
    "registro_actualizado = \"Juan R. Perez\"\n",
    "# Cambiamos el formato de identificación\n",
    "id_actualizado = target_id\n",
    "# Eliminar el registro antiguo\n",
    "remaining_indices = [i for i, record_id in enumerate(ids) if record_id != id_actualizado]\n",
    "filtered_embeddings = np.array([embeddings[i] for i in remaining_indices], dtype='float32')\n",
    "\n",
    "# Reconstruir el índice\n",
    "index = faiss.IndexFlatL2(dimension)\n",
    "index.add(filtered_embeddings)\n",
    "\n",
    "# Añadir el registro actualizado\n",
    "nuevo_embedding = model.encode([registro_actualizado])\n",
    "index.add(np.array(nuevo_embedding, dtype='float32'))\n",
    "\n",
    "# Actualizar listas de IDs y textos\n",
    "ids = [ids[i] for i in remaining_indices] + [id_actualizado]\n",
    "texts = [texts[i] for i in remaining_indices] + [registro_actualizado]"
   ]
  },
  {
   "cell_type": "markdown",
   "metadata": {},
   "source": [
    "### Similitud\n",
    "\n",
    "initial value 70% (0.70)"
   ]
  },
  {
   "cell_type": "code",
   "execution_count": 217,
   "metadata": {},
   "outputs": [
    {
     "name": "stdout",
     "output_type": "stream",
     "text": [
      "    ID     Registro Similaridad\n",
      "0    2  Maria Gómez     100.00%\n",
      "1  602  María Gómez     100.00%\n"
     ]
    }
   ],
   "source": [
    "search(\"Maria Gomez\",threshold=0.7)"
   ]
  },
  {
   "cell_type": "code",
   "execution_count": null,
   "metadata": {},
   "outputs": [],
   "source": []
  }
 ],
 "metadata": {
  "kernelspec": {
   "display_name": ".venv",
   "language": "python",
   "name": "python3"
  },
  "language_info": {
   "codemirror_mode": {
    "name": "ipython",
    "version": 3
   },
   "file_extension": ".py",
   "mimetype": "text/x-python",
   "name": "python",
   "nbconvert_exporter": "python",
   "pygments_lexer": "ipython3",
   "version": "3.13.2"
  }
 },
 "nbformat": 4,
 "nbformat_minor": 2
}
